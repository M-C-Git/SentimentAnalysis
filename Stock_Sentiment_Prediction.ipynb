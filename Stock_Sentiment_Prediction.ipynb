{
 "cells": [
  {
   "cell_type": "code",
   "execution_count": 2,
   "metadata": {
    "colab": {
     "base_uri": "https://localhost:8080/"
    },
    "id": "MB0hH79uJdOP",
    "outputId": "8900c1bf-300c-40f3-d13a-0ce41bcf0d0f"
   },
   "outputs": [
    {
     "name": "stdout",
     "output_type": "stream",
     "text": [
      "Mounted at /content/drive\n"
     ]
    }
   ],
   "source": [
    "import numpy as np\n",
    "import pandas as pd\n",
    "from transformers import pipeline, AutoModelForSequenceClassification, AutoTokenizer\n",
    "import torch"
   ]
  },
  {
   "cell_type": "markdown",
   "metadata": {
    "id": "Ks5prC3uPjXK"
   },
   "source": [
    "# Data Processing"
   ]
  },
  {
   "cell_type": "markdown",
   "metadata": {
    "id": "fiJw78_CQc1l"
   },
   "source": [
    "### Step 1: read sentiment generation result saved under the same directory"
   ]
  },
  {
   "cell_type": "code",
   "execution_count": 115,
   "metadata": {
    "id": "DTEmwBSHxJ0Q"
   },
   "outputs": [],
   "source": [
    "# read sentiment data from\n",
    "data_read = pd.read_csv('Finbert_results.csv', index_col=0)"
   ]
  },
  {
   "cell_type": "markdown",
   "metadata": {
    "id": "bOutPBhuQ2_2"
   },
   "source": [
    "### Step 2: data processing\n",
    "1. Convert string lable to numberic.\n",
    "2. Change data type of Date field from string to date type.\n",
    "3. Aggeregate sentiment by date, and categorize into -1, 0, and 1.\n"
   ]
  },
  {
   "cell_type": "code",
   "execution_count": 117,
   "metadata": {
    "id": "9W-KuYttQwZl"
   },
   "outputs": [],
   "source": [
    "data_read['label'] = data_read['label'].map({'Positive':1., \"Neutral\":0., 'Negative':-1.})\n",
    "data_read['Date'] = pd.to_datetime(data_tweets['Date'], format='ISO8601').dt.date\n",
    "data_sentiment = data_read.groupby('Date')[['label']].sum()\n",
    "data_sentiment['Sentiment'] = data_sentiment['label'].clip(lower=-1, upper=1)  # equal and greater than 1, equals 1 (positive); less and equal to -1, equals -1 (negative)\n",
    "data_sentiment = data_sentiment.drop(columns=['label'])\n",
    "data_sentiment_shifted = data_sentiment.shift(periods=-1)"
   ]
  },
  {
   "cell_type": "markdown",
   "metadata": {
    "id": "TTVhOwKIQwpW"
   },
   "source": [
    "### Step 3: install yfinance"
   ]
  },
  {
   "cell_type": "code",
   "execution_count": 79,
   "metadata": {
    "colab": {
     "base_uri": "https://localhost:8080/"
    },
    "id": "734y0La57z3U",
    "outputId": "335d02a8-b892-4623-979b-4d1694f3bab9"
   },
   "outputs": [
    {
     "name": "stdout",
     "output_type": "stream",
     "text": [
      "Requirement already satisfied: yfinance in /usr/local/lib/python3.10/dist-packages (0.2.43)\n",
      "Requirement already satisfied: pandas>=1.3.0 in /usr/local/lib/python3.10/dist-packages (from yfinance) (2.1.4)\n",
      "Requirement already satisfied: numpy>=1.16.5 in /usr/local/lib/python3.10/dist-packages (from yfinance) (1.26.4)\n",
      "Requirement already satisfied: requests>=2.31 in /usr/local/lib/python3.10/dist-packages (from yfinance) (2.32.3)\n",
      "Requirement already satisfied: multitasking>=0.0.7 in /usr/local/lib/python3.10/dist-packages (from yfinance) (0.0.11)\n",
      "Requirement already satisfied: lxml>=4.9.1 in /usr/local/lib/python3.10/dist-packages (from yfinance) (4.9.4)\n",
      "Requirement already satisfied: platformdirs>=2.0.0 in /usr/local/lib/python3.10/dist-packages (from yfinance) (4.3.6)\n",
      "Requirement already satisfied: pytz>=2022.5 in /usr/local/lib/python3.10/dist-packages (from yfinance) (2024.2)\n",
      "Requirement already satisfied: frozendict>=2.3.4 in /usr/local/lib/python3.10/dist-packages (from yfinance) (2.4.4)\n",
      "Requirement already satisfied: peewee>=3.16.2 in /usr/local/lib/python3.10/dist-packages (from yfinance) (3.17.6)\n",
      "Requirement already satisfied: beautifulsoup4>=4.11.1 in /usr/local/lib/python3.10/dist-packages (from yfinance) (4.12.3)\n",
      "Requirement already satisfied: html5lib>=1.1 in /usr/local/lib/python3.10/dist-packages (from yfinance) (1.1)\n",
      "Requirement already satisfied: soupsieve>1.2 in /usr/local/lib/python3.10/dist-packages (from beautifulsoup4>=4.11.1->yfinance) (2.6)\n",
      "Requirement already satisfied: six>=1.9 in /usr/local/lib/python3.10/dist-packages (from html5lib>=1.1->yfinance) (1.16.0)\n",
      "Requirement already satisfied: webencodings in /usr/local/lib/python3.10/dist-packages (from html5lib>=1.1->yfinance) (0.5.1)\n",
      "Requirement already satisfied: python-dateutil>=2.8.2 in /usr/local/lib/python3.10/dist-packages (from pandas>=1.3.0->yfinance) (2.8.2)\n",
      "Requirement already satisfied: tzdata>=2022.1 in /usr/local/lib/python3.10/dist-packages (from pandas>=1.3.0->yfinance) (2024.1)\n",
      "Requirement already satisfied: charset-normalizer<4,>=2 in /usr/local/lib/python3.10/dist-packages (from requests>=2.31->yfinance) (3.3.2)\n",
      "Requirement already satisfied: idna<4,>=2.5 in /usr/local/lib/python3.10/dist-packages (from requests>=2.31->yfinance) (3.10)\n",
      "Requirement already satisfied: urllib3<3,>=1.21.1 in /usr/local/lib/python3.10/dist-packages (from requests>=2.31->yfinance) (2.0.7)\n",
      "Requirement already satisfied: certifi>=2017.4.17 in /usr/local/lib/python3.10/dist-packages (from requests>=2.31->yfinance) (2024.8.30)\n"
     ]
    }
   ],
   "source": [
    "# install yfinance to download \"TSLA\" stock data from Yahoo Finance.\n",
    "!pip install yfinance"
   ]
  },
  {
   "cell_type": "markdown",
   "metadata": {
    "id": "N9728jxiR1el"
   },
   "source": [
    "### Step 4: download stock data"
   ]
  },
  {
   "cell_type": "code",
   "execution_count": 118,
   "metadata": {
    "colab": {
     "base_uri": "https://localhost:8080/"
    },
    "id": "SZLZT4IjSPYj",
    "outputId": "005cd600-d2e4-49f3-c9b7-4984541236ea"
   },
   "outputs": [
    {
     "name": "stderr",
     "output_type": "stream",
     "text": [
      "[*********************100%***********************]  1 of 1 completed\n"
     ]
    }
   ],
   "source": [
    "# Download \"TSLA\" stock data from Yahoo Finance.\n",
    "import yfinance as yf\n",
    "stock_data = yf.download(tickers='TSLA', start=data_sentiment.index.min(),\n",
    "                                         end=data_sentiment.index.max(),\n",
    "                                         interval='1d')"
   ]
  },
  {
   "cell_type": "markdown",
   "metadata": {
    "id": "nCaQE2oz22Rx"
   },
   "source": [
    "# Using Categorical Features"
   ]
  },
  {
   "cell_type": "markdown",
   "metadata": {
    "id": "m8g45Q3aR_-G"
   },
   "source": [
    "## Create categorical features"
   ]
  },
  {
   "cell_type": "code",
   "execution_count": 119,
   "metadata": {
    "colab": {
     "base_uri": "https://localhost:8080/",
     "height": 237
    },
    "id": "tnw1KTP0Wy10",
    "outputId": "092044c6-3669-4135-d3f0-226667e6fe4e"
   },
   "outputs": [
    {
     "data": {
      "application/vnd.google.colaboratory.intrinsic+json": {
       "summary": "{\n  \"name\": \"dataset\",\n  \"rows\": 250,\n  \"fields\": [\n    {\n      \"column\": \"Date\",\n      \"properties\": {\n        \"dtype\": \"date\",\n        \"min\": \"2021-10-01 00:00:00\",\n        \"max\": \"2022-09-28 00:00:00\",\n        \"num_unique_values\": 250,\n        \"samples\": [\n          \"2022-04-26 00:00:00\",\n          \"2021-10-11 00:00:00\",\n          \"2022-02-18 00:00:00\"\n        ],\n        \"semantic_type\": \"\",\n        \"description\": \"\"\n      }\n    },\n    {\n      \"column\": \"Open\",\n      \"properties\": {\n        \"dtype\": \"number\",\n        \"std\": 0.99170049889978,\n        \"min\": -1.0,\n        \"max\": 1.0,\n        \"num_unique_values\": 3,\n        \"samples\": [\n          -1.0,\n          1.0,\n          0.0\n        ],\n        \"semantic_type\": \"\",\n        \"description\": \"\"\n      }\n    },\n    {\n      \"column\": \"High\",\n      \"properties\": {\n        \"dtype\": \"number\",\n        \"std\": 0.9897790918191846,\n        \"min\": -1.0,\n        \"max\": 1.0,\n        \"num_unique_values\": 3,\n        \"samples\": [\n          -1.0,\n          1.0,\n          0.0\n        ],\n        \"semantic_type\": \"\",\n        \"description\": \"\"\n      }\n    },\n    {\n      \"column\": \"Low\",\n      \"properties\": {\n        \"dtype\": \"number\",\n        \"std\": 0.9898764678922047,\n        \"min\": -1.0,\n        \"max\": 1.0,\n        \"num_unique_values\": 3,\n        \"samples\": [\n          -1.0,\n          1.0,\n          0.0\n        ],\n        \"semantic_type\": \"\",\n        \"description\": \"\"\n      }\n    },\n    {\n      \"column\": \"Close\",\n      \"properties\": {\n        \"dtype\": \"number\",\n        \"std\": 0.9918867664354228,\n        \"min\": -1.0,\n        \"max\": 1.0,\n        \"num_unique_values\": 3,\n        \"samples\": [\n          0.0,\n          1.0,\n          -1.0\n        ],\n        \"semantic_type\": \"\",\n        \"description\": \"\"\n      }\n    },\n    {\n      \"column\": \"Adj Close\",\n      \"properties\": {\n        \"dtype\": \"number\",\n        \"std\": 0.9918867664354228,\n        \"min\": -1.0,\n        \"max\": 1.0,\n        \"num_unique_values\": 3,\n        \"samples\": [\n          0.0,\n          1.0,\n          -1.0\n        ],\n        \"semantic_type\": \"\",\n        \"description\": \"\"\n      }\n    },\n    {\n      \"column\": \"Volume\",\n      \"properties\": {\n        \"dtype\": \"number\",\n        \"std\": 1.0018777550901998,\n        \"min\": -1.0,\n        \"max\": 1.0,\n        \"num_unique_values\": 2,\n        \"samples\": [\n          1.0,\n          -1.0\n        ],\n        \"semantic_type\": \"\",\n        \"description\": \"\"\n      }\n    },\n    {\n      \"column\": \"Sentiment\",\n      \"properties\": {\n        \"dtype\": \"number\",\n        \"std\": 0.0,\n        \"min\": 0.0,\n        \"max\": 0.0,\n        \"num_unique_values\": 1,\n        \"samples\": [\n          0.0\n        ],\n        \"semantic_type\": \"\",\n        \"description\": \"\"\n      }\n    }\n  ]\n}",
       "type": "dataframe",
       "variable_name": "dataset"
      },
      "text/html": [
       "\n",
       "  <div id=\"df-b29c6398-8767-40ac-92ff-d744607a3e12\" class=\"colab-df-container\">\n",
       "    <div>\n",
       "<style scoped>\n",
       "    .dataframe tbody tr th:only-of-type {\n",
       "        vertical-align: middle;\n",
       "    }\n",
       "\n",
       "    .dataframe tbody tr th {\n",
       "        vertical-align: top;\n",
       "    }\n",
       "\n",
       "    .dataframe thead th {\n",
       "        text-align: right;\n",
       "    }\n",
       "</style>\n",
       "<table border=\"1\" class=\"dataframe\">\n",
       "  <thead>\n",
       "    <tr style=\"text-align: right;\">\n",
       "      <th></th>\n",
       "      <th>Open</th>\n",
       "      <th>High</th>\n",
       "      <th>Low</th>\n",
       "      <th>Close</th>\n",
       "      <th>Adj Close</th>\n",
       "      <th>Volume</th>\n",
       "      <th>Sentiment</th>\n",
       "    </tr>\n",
       "    <tr>\n",
       "      <th>Date</th>\n",
       "      <th></th>\n",
       "      <th></th>\n",
       "      <th></th>\n",
       "      <th></th>\n",
       "      <th></th>\n",
       "      <th></th>\n",
       "      <th></th>\n",
       "    </tr>\n",
       "  </thead>\n",
       "  <tbody>\n",
       "    <tr>\n",
       "      <th>2021-10-01</th>\n",
       "      <td>-1.0</td>\n",
       "      <td>-1.0</td>\n",
       "      <td>-1.0</td>\n",
       "      <td>0.0</td>\n",
       "      <td>0.0</td>\n",
       "      <td>-1.0</td>\n",
       "      <td>0.0</td>\n",
       "    </tr>\n",
       "    <tr>\n",
       "      <th>2021-10-04</th>\n",
       "      <td>1.0</td>\n",
       "      <td>1.0</td>\n",
       "      <td>1.0</td>\n",
       "      <td>1.0</td>\n",
       "      <td>1.0</td>\n",
       "      <td>1.0</td>\n",
       "      <td>0.0</td>\n",
       "    </tr>\n",
       "    <tr>\n",
       "      <th>2021-10-05</th>\n",
       "      <td>-1.0</td>\n",
       "      <td>-1.0</td>\n",
       "      <td>-1.0</td>\n",
       "      <td>-1.0</td>\n",
       "      <td>-1.0</td>\n",
       "      <td>-1.0</td>\n",
       "      <td>0.0</td>\n",
       "    </tr>\n",
       "    <tr>\n",
       "      <th>2021-10-06</th>\n",
       "      <td>-1.0</td>\n",
       "      <td>-1.0</td>\n",
       "      <td>-1.0</td>\n",
       "      <td>1.0</td>\n",
       "      <td>1.0</td>\n",
       "      <td>-1.0</td>\n",
       "      <td>0.0</td>\n",
       "    </tr>\n",
       "    <tr>\n",
       "      <th>2021-10-07</th>\n",
       "      <td>1.0</td>\n",
       "      <td>1.0</td>\n",
       "      <td>1.0</td>\n",
       "      <td>1.0</td>\n",
       "      <td>1.0</td>\n",
       "      <td>1.0</td>\n",
       "      <td>0.0</td>\n",
       "    </tr>\n",
       "  </tbody>\n",
       "</table>\n",
       "</div>\n",
       "    <div class=\"colab-df-buttons\">\n",
       "\n",
       "  <div class=\"colab-df-container\">\n",
       "    <button class=\"colab-df-convert\" onclick=\"convertToInteractive('df-b29c6398-8767-40ac-92ff-d744607a3e12')\"\n",
       "            title=\"Convert this dataframe to an interactive table.\"\n",
       "            style=\"display:none;\">\n",
       "\n",
       "  <svg xmlns=\"http://www.w3.org/2000/svg\" height=\"24px\" viewBox=\"0 -960 960 960\">\n",
       "    <path d=\"M120-120v-720h720v720H120Zm60-500h600v-160H180v160Zm220 220h160v-160H400v160Zm0 220h160v-160H400v160ZM180-400h160v-160H180v160Zm440 0h160v-160H620v160ZM180-180h160v-160H180v160Zm440 0h160v-160H620v160Z\"/>\n",
       "  </svg>\n",
       "    </button>\n",
       "\n",
       "  <style>\n",
       "    .colab-df-container {\n",
       "      display:flex;\n",
       "      gap: 12px;\n",
       "    }\n",
       "\n",
       "    .colab-df-convert {\n",
       "      background-color: #E8F0FE;\n",
       "      border: none;\n",
       "      border-radius: 50%;\n",
       "      cursor: pointer;\n",
       "      display: none;\n",
       "      fill: #1967D2;\n",
       "      height: 32px;\n",
       "      padding: 0 0 0 0;\n",
       "      width: 32px;\n",
       "    }\n",
       "\n",
       "    .colab-df-convert:hover {\n",
       "      background-color: #E2EBFA;\n",
       "      box-shadow: 0px 1px 2px rgba(60, 64, 67, 0.3), 0px 1px 3px 1px rgba(60, 64, 67, 0.15);\n",
       "      fill: #174EA6;\n",
       "    }\n",
       "\n",
       "    .colab-df-buttons div {\n",
       "      margin-bottom: 4px;\n",
       "    }\n",
       "\n",
       "    [theme=dark] .colab-df-convert {\n",
       "      background-color: #3B4455;\n",
       "      fill: #D2E3FC;\n",
       "    }\n",
       "\n",
       "    [theme=dark] .colab-df-convert:hover {\n",
       "      background-color: #434B5C;\n",
       "      box-shadow: 0px 1px 3px 1px rgba(0, 0, 0, 0.15);\n",
       "      filter: drop-shadow(0px 1px 2px rgba(0, 0, 0, 0.3));\n",
       "      fill: #FFFFFF;\n",
       "    }\n",
       "  </style>\n",
       "\n",
       "    <script>\n",
       "      const buttonEl =\n",
       "        document.querySelector('#df-b29c6398-8767-40ac-92ff-d744607a3e12 button.colab-df-convert');\n",
       "      buttonEl.style.display =\n",
       "        google.colab.kernel.accessAllowed ? 'block' : 'none';\n",
       "\n",
       "      async function convertToInteractive(key) {\n",
       "        const element = document.querySelector('#df-b29c6398-8767-40ac-92ff-d744607a3e12');\n",
       "        const dataTable =\n",
       "          await google.colab.kernel.invokeFunction('convertToInteractive',\n",
       "                                                    [key], {});\n",
       "        if (!dataTable) return;\n",
       "\n",
       "        const docLinkHtml = 'Like what you see? Visit the ' +\n",
       "          '<a target=\"_blank\" href=https://colab.research.google.com/notebooks/data_table.ipynb>data table notebook</a>'\n",
       "          + ' to learn more about interactive tables.';\n",
       "        element.innerHTML = '';\n",
       "        dataTable['output_type'] = 'display_data';\n",
       "        await google.colab.output.renderOutput(dataTable, element);\n",
       "        const docLink = document.createElement('div');\n",
       "        docLink.innerHTML = docLinkHtml;\n",
       "        element.appendChild(docLink);\n",
       "      }\n",
       "    </script>\n",
       "  </div>\n",
       "\n",
       "\n",
       "<div id=\"df-f6de9c6b-f038-427f-a789-5d68b9d16091\">\n",
       "  <button class=\"colab-df-quickchart\" onclick=\"quickchart('df-f6de9c6b-f038-427f-a789-5d68b9d16091')\"\n",
       "            title=\"Suggest charts\"\n",
       "            style=\"display:none;\">\n",
       "\n",
       "<svg xmlns=\"http://www.w3.org/2000/svg\" height=\"24px\"viewBox=\"0 0 24 24\"\n",
       "     width=\"24px\">\n",
       "    <g>\n",
       "        <path d=\"M19 3H5c-1.1 0-2 .9-2 2v14c0 1.1.9 2 2 2h14c1.1 0 2-.9 2-2V5c0-1.1-.9-2-2-2zM9 17H7v-7h2v7zm4 0h-2V7h2v10zm4 0h-2v-4h2v4z\"/>\n",
       "    </g>\n",
       "</svg>\n",
       "  </button>\n",
       "\n",
       "<style>\n",
       "  .colab-df-quickchart {\n",
       "      --bg-color: #E8F0FE;\n",
       "      --fill-color: #1967D2;\n",
       "      --hover-bg-color: #E2EBFA;\n",
       "      --hover-fill-color: #174EA6;\n",
       "      --disabled-fill-color: #AAA;\n",
       "      --disabled-bg-color: #DDD;\n",
       "  }\n",
       "\n",
       "  [theme=dark] .colab-df-quickchart {\n",
       "      --bg-color: #3B4455;\n",
       "      --fill-color: #D2E3FC;\n",
       "      --hover-bg-color: #434B5C;\n",
       "      --hover-fill-color: #FFFFFF;\n",
       "      --disabled-bg-color: #3B4455;\n",
       "      --disabled-fill-color: #666;\n",
       "  }\n",
       "\n",
       "  .colab-df-quickchart {\n",
       "    background-color: var(--bg-color);\n",
       "    border: none;\n",
       "    border-radius: 50%;\n",
       "    cursor: pointer;\n",
       "    display: none;\n",
       "    fill: var(--fill-color);\n",
       "    height: 32px;\n",
       "    padding: 0;\n",
       "    width: 32px;\n",
       "  }\n",
       "\n",
       "  .colab-df-quickchart:hover {\n",
       "    background-color: var(--hover-bg-color);\n",
       "    box-shadow: 0 1px 2px rgba(60, 64, 67, 0.3), 0 1px 3px 1px rgba(60, 64, 67, 0.15);\n",
       "    fill: var(--button-hover-fill-color);\n",
       "  }\n",
       "\n",
       "  .colab-df-quickchart-complete:disabled,\n",
       "  .colab-df-quickchart-complete:disabled:hover {\n",
       "    background-color: var(--disabled-bg-color);\n",
       "    fill: var(--disabled-fill-color);\n",
       "    box-shadow: none;\n",
       "  }\n",
       "\n",
       "  .colab-df-spinner {\n",
       "    border: 2px solid var(--fill-color);\n",
       "    border-color: transparent;\n",
       "    border-bottom-color: var(--fill-color);\n",
       "    animation:\n",
       "      spin 1s steps(1) infinite;\n",
       "  }\n",
       "\n",
       "  @keyframes spin {\n",
       "    0% {\n",
       "      border-color: transparent;\n",
       "      border-bottom-color: var(--fill-color);\n",
       "      border-left-color: var(--fill-color);\n",
       "    }\n",
       "    20% {\n",
       "      border-color: transparent;\n",
       "      border-left-color: var(--fill-color);\n",
       "      border-top-color: var(--fill-color);\n",
       "    }\n",
       "    30% {\n",
       "      border-color: transparent;\n",
       "      border-left-color: var(--fill-color);\n",
       "      border-top-color: var(--fill-color);\n",
       "      border-right-color: var(--fill-color);\n",
       "    }\n",
       "    40% {\n",
       "      border-color: transparent;\n",
       "      border-right-color: var(--fill-color);\n",
       "      border-top-color: var(--fill-color);\n",
       "    }\n",
       "    60% {\n",
       "      border-color: transparent;\n",
       "      border-right-color: var(--fill-color);\n",
       "    }\n",
       "    80% {\n",
       "      border-color: transparent;\n",
       "      border-right-color: var(--fill-color);\n",
       "      border-bottom-color: var(--fill-color);\n",
       "    }\n",
       "    90% {\n",
       "      border-color: transparent;\n",
       "      border-bottom-color: var(--fill-color);\n",
       "    }\n",
       "  }\n",
       "</style>\n",
       "\n",
       "  <script>\n",
       "    async function quickchart(key) {\n",
       "      const quickchartButtonEl =\n",
       "        document.querySelector('#' + key + ' button');\n",
       "      quickchartButtonEl.disabled = true;  // To prevent multiple clicks.\n",
       "      quickchartButtonEl.classList.add('colab-df-spinner');\n",
       "      try {\n",
       "        const charts = await google.colab.kernel.invokeFunction(\n",
       "            'suggestCharts', [key], {});\n",
       "      } catch (error) {\n",
       "        console.error('Error during call to suggestCharts:', error);\n",
       "      }\n",
       "      quickchartButtonEl.classList.remove('colab-df-spinner');\n",
       "      quickchartButtonEl.classList.add('colab-df-quickchart-complete');\n",
       "    }\n",
       "    (() => {\n",
       "      let quickchartButtonEl =\n",
       "        document.querySelector('#df-f6de9c6b-f038-427f-a789-5d68b9d16091 button');\n",
       "      quickchartButtonEl.style.display =\n",
       "        google.colab.kernel.accessAllowed ? 'block' : 'none';\n",
       "    })();\n",
       "  </script>\n",
       "</div>\n",
       "\n",
       "    </div>\n",
       "  </div>\n"
      ],
      "text/plain": [
       "            Open  High  Low  Close  Adj Close  Volume  Sentiment\n",
       "Date                                                            \n",
       "2021-10-01  -1.0  -1.0 -1.0    0.0        0.0    -1.0        0.0\n",
       "2021-10-04   1.0   1.0  1.0    1.0        1.0     1.0        0.0\n",
       "2021-10-05  -1.0  -1.0 -1.0   -1.0       -1.0    -1.0        0.0\n",
       "2021-10-06  -1.0  -1.0 -1.0    1.0        1.0    -1.0        0.0\n",
       "2021-10-07   1.0   1.0  1.0    1.0        1.0     1.0        0.0"
      ]
     },
     "execution_count": 119,
     "metadata": {},
     "output_type": "execute_result"
    }
   ],
   "source": [
    "# create categorical features\n",
    "stock_move = stock_data.pct_change().map(lambda x: 1. if x >= 0.001 else -1. if x <= -0.001 else 0.)   # price change is flat if the |change| <= 0.1%\n",
    "stock_move = stock_move[1:]    # the 1st record is N/A after applying .pct_change()\n",
    "\n",
    "# join the two data to obtain sentiment data matching stock data by date\n",
    "dataset = stock_move.join(data_sentiment_shifted)\n",
    "dataset.head()"
   ]
  },
  {
   "cell_type": "markdown",
   "metadata": {
    "id": "N4nkNE-nSGeX"
   },
   "source": [
    "## Analyze relationship between sentiment and stock price movement."
   ]
  },
  {
   "cell_type": "code",
   "execution_count": 120,
   "metadata": {
    "colab": {
     "base_uri": "https://localhost:8080/"
    },
    "id": "gTUCwrSzJ4S6",
    "outputId": "9503090a-8e35-4291-dd4a-0d6e1a69a4dd"
   },
   "outputs": [
    {
     "name": "stdout",
     "output_type": "stream",
     "text": [
      "Confusion Matrix:\n",
      "[[  0 115   0]\n",
      " [  0   4   0]\n",
      " [  0 131   0]]\n",
      "accuracy:\n",
      "0.016\n"
     ]
    }
   ],
   "source": [
    "# build confusion matrix\n",
    "from sklearn.metrics import confusion_matrix, accuracy_score\n",
    "cm = confusion_matrix(dataset['Close'], dataset['Sentiment'])\n",
    "accuracy = accuracy_score(dataset['Close'], dataset['Sentiment'])\n",
    "print(\"Confusion Matrix:\", cm, sep=\"\\n\")\n",
    "print(\"accuracy:\", accuracy, sep=\"\\n\")"
   ]
  },
  {
   "cell_type": "markdown",
   "metadata": {
    "id": "_Mg0H0mBcF4r"
   },
   "source": [
    "Conclusion:\n",
    "1. Relationship between sentiment and stock price change is almost obvious.\n",
    "2. As number of price-up (=131) and price-down (=115) are pretty much equally distributed, the dataset does not suffering from class imbalance issues.\n",
    "3. The minority class price-flat (=3) is very minor, and is not our focus, so it is ignorable in this exercise, as the cost to address this class imbalance is much higher than its benefit in time-series forecast.\n",
    "4. the accuracy 0.524 before any model training will be our benchmark for model efficiency evaluation."
   ]
  },
  {
   "cell_type": "markdown",
   "metadata": {
    "id": "ckkhertySz3p"
   },
   "source": [
    "## Feature Engineering"
   ]
  },
  {
   "cell_type": "markdown",
   "metadata": {
    "id": "zbUQrdVUf_mr"
   },
   "source": [
    "1. Preliminary (full) features includes: Open, High, Low, Close, Adj-Close, Volume, and Sentiment.\n",
    "2. Target: Close (shift by one-day)\n",
    "3. There is no NA value and outliers (all featurs categorized with value -1, 0, 1), additonal data cleaning or optimizing is not needed.\n",
    "4. We use RandomForestClassification to estimate features importance."
   ]
  },
  {
   "cell_type": "markdown",
   "metadata": {
    "id": "SCoo_YxMTVj9"
   },
   "source": [
    "### Step 1: creating training datasets"
   ]
  },
  {
   "cell_type": "code",
   "execution_count": 121,
   "metadata": {
    "colab": {
     "base_uri": "https://localhost:8080/",
     "height": 255
    },
    "id": "gDJ3fqLLf7zK",
    "outputId": "032e8e58-8e31-43ca-e869-c7a15e05e4a5"
   },
   "outputs": [
    {
     "name": "stdout",
     "output_type": "stream",
     "text": [
      "249 249\n"
     ]
    },
    {
     "data": {
      "application/vnd.google.colaboratory.intrinsic+json": {
       "summary": "{\n  \"name\": \"X_prelim\",\n  \"rows\": 249,\n  \"fields\": [\n    {\n      \"column\": \"Date\",\n      \"properties\": {\n        \"dtype\": \"date\",\n        \"min\": \"2021-10-04 00:00:00\",\n        \"max\": \"2022-09-28 00:00:00\",\n        \"num_unique_values\": 249,\n        \"samples\": [\n          \"2022-04-20 00:00:00\",\n          \"2021-10-12 00:00:00\",\n          \"2022-02-22 00:00:00\"\n        ],\n        \"semantic_type\": \"\",\n        \"description\": \"\"\n      }\n    },\n    {\n      \"column\": \"Open\",\n      \"properties\": {\n        \"dtype\": \"number\",\n        \"std\": 0.9912657820977532,\n        \"min\": -1.0,\n        \"max\": 1.0,\n        \"num_unique_values\": 3,\n        \"samples\": [\n          -1.0,\n          1.0,\n          0.0\n        ],\n        \"semantic_type\": \"\",\n        \"description\": \"\"\n      }\n    },\n    {\n      \"column\": \"High\",\n      \"properties\": {\n        \"dtype\": \"number\",\n        \"std\": 0.989794405626758,\n        \"min\": -1.0,\n        \"max\": 1.0,\n        \"num_unique_values\": 3,\n        \"samples\": [\n          -1.0,\n          1.0,\n          0.0\n        ],\n        \"semantic_type\": \"\",\n        \"description\": \"\"\n      }\n    },\n    {\n      \"column\": \"Low\",\n      \"properties\": {\n        \"dtype\": \"number\",\n        \"std\": 0.991870048197839,\n        \"min\": -1.0,\n        \"max\": 1.0,\n        \"num_unique_values\": 3,\n        \"samples\": [\n          -1.0,\n          1.0,\n          0.0\n        ],\n        \"semantic_type\": \"\",\n        \"description\": \"\"\n      }\n    },\n    {\n      \"column\": \"Close\",\n      \"properties\": {\n        \"dtype\": \"number\",\n        \"std\": 0.9920985934480746,\n        \"min\": -1.0,\n        \"max\": 1.0,\n        \"num_unique_values\": 3,\n        \"samples\": [\n          0.0,\n          1.0,\n          -1.0\n        ],\n        \"semantic_type\": \"\",\n        \"description\": \"\"\n      }\n    },\n    {\n      \"column\": \"Adj Close\",\n      \"properties\": {\n        \"dtype\": \"number\",\n        \"std\": 0.9920985934480746,\n        \"min\": -1.0,\n        \"max\": 1.0,\n        \"num_unique_values\": 3,\n        \"samples\": [\n          0.0,\n          1.0,\n          -1.0\n        ],\n        \"semantic_type\": \"\",\n        \"description\": \"\"\n      }\n    },\n    {\n      \"column\": \"Volume\",\n      \"properties\": {\n        \"dtype\": \"number\",\n        \"std\": 1.001941372435096,\n        \"min\": -1.0,\n        \"max\": 1.0,\n        \"num_unique_values\": 2,\n        \"samples\": [\n          1.0,\n          -1.0\n        ],\n        \"semantic_type\": \"\",\n        \"description\": \"\"\n      }\n    },\n    {\n      \"column\": \"Sentiment\",\n      \"properties\": {\n        \"dtype\": \"number\",\n        \"std\": 0.0,\n        \"min\": 0.0,\n        \"max\": 0.0,\n        \"num_unique_values\": 1,\n        \"samples\": [\n          0.0\n        ],\n        \"semantic_type\": \"\",\n        \"description\": \"\"\n      }\n    }\n  ]\n}",
       "type": "dataframe",
       "variable_name": "X_prelim"
      },
      "text/html": [
       "\n",
       "  <div id=\"df-4cb24590-b613-48f6-b502-76656e5f29dd\" class=\"colab-df-container\">\n",
       "    <div>\n",
       "<style scoped>\n",
       "    .dataframe tbody tr th:only-of-type {\n",
       "        vertical-align: middle;\n",
       "    }\n",
       "\n",
       "    .dataframe tbody tr th {\n",
       "        vertical-align: top;\n",
       "    }\n",
       "\n",
       "    .dataframe thead th {\n",
       "        text-align: right;\n",
       "    }\n",
       "</style>\n",
       "<table border=\"1\" class=\"dataframe\">\n",
       "  <thead>\n",
       "    <tr style=\"text-align: right;\">\n",
       "      <th></th>\n",
       "      <th>Open</th>\n",
       "      <th>High</th>\n",
       "      <th>Low</th>\n",
       "      <th>Close</th>\n",
       "      <th>Adj Close</th>\n",
       "      <th>Volume</th>\n",
       "      <th>Sentiment</th>\n",
       "    </tr>\n",
       "    <tr>\n",
       "      <th>Date</th>\n",
       "      <th></th>\n",
       "      <th></th>\n",
       "      <th></th>\n",
       "      <th></th>\n",
       "      <th></th>\n",
       "      <th></th>\n",
       "      <th></th>\n",
       "    </tr>\n",
       "  </thead>\n",
       "  <tbody>\n",
       "    <tr>\n",
       "      <th>2021-10-04</th>\n",
       "      <td>-1.0</td>\n",
       "      <td>-1.0</td>\n",
       "      <td>-1.0</td>\n",
       "      <td>0.0</td>\n",
       "      <td>0.0</td>\n",
       "      <td>-1.0</td>\n",
       "      <td>0.0</td>\n",
       "    </tr>\n",
       "    <tr>\n",
       "      <th>2021-10-05</th>\n",
       "      <td>1.0</td>\n",
       "      <td>1.0</td>\n",
       "      <td>1.0</td>\n",
       "      <td>1.0</td>\n",
       "      <td>1.0</td>\n",
       "      <td>1.0</td>\n",
       "      <td>0.0</td>\n",
       "    </tr>\n",
       "    <tr>\n",
       "      <th>2021-10-06</th>\n",
       "      <td>-1.0</td>\n",
       "      <td>-1.0</td>\n",
       "      <td>-1.0</td>\n",
       "      <td>-1.0</td>\n",
       "      <td>-1.0</td>\n",
       "      <td>-1.0</td>\n",
       "      <td>0.0</td>\n",
       "    </tr>\n",
       "    <tr>\n",
       "      <th>2021-10-07</th>\n",
       "      <td>-1.0</td>\n",
       "      <td>-1.0</td>\n",
       "      <td>-1.0</td>\n",
       "      <td>1.0</td>\n",
       "      <td>1.0</td>\n",
       "      <td>-1.0</td>\n",
       "      <td>0.0</td>\n",
       "    </tr>\n",
       "    <tr>\n",
       "      <th>2021-10-08</th>\n",
       "      <td>1.0</td>\n",
       "      <td>1.0</td>\n",
       "      <td>1.0</td>\n",
       "      <td>1.0</td>\n",
       "      <td>1.0</td>\n",
       "      <td>1.0</td>\n",
       "      <td>0.0</td>\n",
       "    </tr>\n",
       "  </tbody>\n",
       "</table>\n",
       "</div>\n",
       "    <div class=\"colab-df-buttons\">\n",
       "\n",
       "  <div class=\"colab-df-container\">\n",
       "    <button class=\"colab-df-convert\" onclick=\"convertToInteractive('df-4cb24590-b613-48f6-b502-76656e5f29dd')\"\n",
       "            title=\"Convert this dataframe to an interactive table.\"\n",
       "            style=\"display:none;\">\n",
       "\n",
       "  <svg xmlns=\"http://www.w3.org/2000/svg\" height=\"24px\" viewBox=\"0 -960 960 960\">\n",
       "    <path d=\"M120-120v-720h720v720H120Zm60-500h600v-160H180v160Zm220 220h160v-160H400v160Zm0 220h160v-160H400v160ZM180-400h160v-160H180v160Zm440 0h160v-160H620v160ZM180-180h160v-160H180v160Zm440 0h160v-160H620v160Z\"/>\n",
       "  </svg>\n",
       "    </button>\n",
       "\n",
       "  <style>\n",
       "    .colab-df-container {\n",
       "      display:flex;\n",
       "      gap: 12px;\n",
       "    }\n",
       "\n",
       "    .colab-df-convert {\n",
       "      background-color: #E8F0FE;\n",
       "      border: none;\n",
       "      border-radius: 50%;\n",
       "      cursor: pointer;\n",
       "      display: none;\n",
       "      fill: #1967D2;\n",
       "      height: 32px;\n",
       "      padding: 0 0 0 0;\n",
       "      width: 32px;\n",
       "    }\n",
       "\n",
       "    .colab-df-convert:hover {\n",
       "      background-color: #E2EBFA;\n",
       "      box-shadow: 0px 1px 2px rgba(60, 64, 67, 0.3), 0px 1px 3px 1px rgba(60, 64, 67, 0.15);\n",
       "      fill: #174EA6;\n",
       "    }\n",
       "\n",
       "    .colab-df-buttons div {\n",
       "      margin-bottom: 4px;\n",
       "    }\n",
       "\n",
       "    [theme=dark] .colab-df-convert {\n",
       "      background-color: #3B4455;\n",
       "      fill: #D2E3FC;\n",
       "    }\n",
       "\n",
       "    [theme=dark] .colab-df-convert:hover {\n",
       "      background-color: #434B5C;\n",
       "      box-shadow: 0px 1px 3px 1px rgba(0, 0, 0, 0.15);\n",
       "      filter: drop-shadow(0px 1px 2px rgba(0, 0, 0, 0.3));\n",
       "      fill: #FFFFFF;\n",
       "    }\n",
       "  </style>\n",
       "\n",
       "    <script>\n",
       "      const buttonEl =\n",
       "        document.querySelector('#df-4cb24590-b613-48f6-b502-76656e5f29dd button.colab-df-convert');\n",
       "      buttonEl.style.display =\n",
       "        google.colab.kernel.accessAllowed ? 'block' : 'none';\n",
       "\n",
       "      async function convertToInteractive(key) {\n",
       "        const element = document.querySelector('#df-4cb24590-b613-48f6-b502-76656e5f29dd');\n",
       "        const dataTable =\n",
       "          await google.colab.kernel.invokeFunction('convertToInteractive',\n",
       "                                                    [key], {});\n",
       "        if (!dataTable) return;\n",
       "\n",
       "        const docLinkHtml = 'Like what you see? Visit the ' +\n",
       "          '<a target=\"_blank\" href=https://colab.research.google.com/notebooks/data_table.ipynb>data table notebook</a>'\n",
       "          + ' to learn more about interactive tables.';\n",
       "        element.innerHTML = '';\n",
       "        dataTable['output_type'] = 'display_data';\n",
       "        await google.colab.output.renderOutput(dataTable, element);\n",
       "        const docLink = document.createElement('div');\n",
       "        docLink.innerHTML = docLinkHtml;\n",
       "        element.appendChild(docLink);\n",
       "      }\n",
       "    </script>\n",
       "  </div>\n",
       "\n",
       "\n",
       "<div id=\"df-d9facaba-a6fc-4825-929c-d089e0c0a313\">\n",
       "  <button class=\"colab-df-quickchart\" onclick=\"quickchart('df-d9facaba-a6fc-4825-929c-d089e0c0a313')\"\n",
       "            title=\"Suggest charts\"\n",
       "            style=\"display:none;\">\n",
       "\n",
       "<svg xmlns=\"http://www.w3.org/2000/svg\" height=\"24px\"viewBox=\"0 0 24 24\"\n",
       "     width=\"24px\">\n",
       "    <g>\n",
       "        <path d=\"M19 3H5c-1.1 0-2 .9-2 2v14c0 1.1.9 2 2 2h14c1.1 0 2-.9 2-2V5c0-1.1-.9-2-2-2zM9 17H7v-7h2v7zm4 0h-2V7h2v10zm4 0h-2v-4h2v4z\"/>\n",
       "    </g>\n",
       "</svg>\n",
       "  </button>\n",
       "\n",
       "<style>\n",
       "  .colab-df-quickchart {\n",
       "      --bg-color: #E8F0FE;\n",
       "      --fill-color: #1967D2;\n",
       "      --hover-bg-color: #E2EBFA;\n",
       "      --hover-fill-color: #174EA6;\n",
       "      --disabled-fill-color: #AAA;\n",
       "      --disabled-bg-color: #DDD;\n",
       "  }\n",
       "\n",
       "  [theme=dark] .colab-df-quickchart {\n",
       "      --bg-color: #3B4455;\n",
       "      --fill-color: #D2E3FC;\n",
       "      --hover-bg-color: #434B5C;\n",
       "      --hover-fill-color: #FFFFFF;\n",
       "      --disabled-bg-color: #3B4455;\n",
       "      --disabled-fill-color: #666;\n",
       "  }\n",
       "\n",
       "  .colab-df-quickchart {\n",
       "    background-color: var(--bg-color);\n",
       "    border: none;\n",
       "    border-radius: 50%;\n",
       "    cursor: pointer;\n",
       "    display: none;\n",
       "    fill: var(--fill-color);\n",
       "    height: 32px;\n",
       "    padding: 0;\n",
       "    width: 32px;\n",
       "  }\n",
       "\n",
       "  .colab-df-quickchart:hover {\n",
       "    background-color: var(--hover-bg-color);\n",
       "    box-shadow: 0 1px 2px rgba(60, 64, 67, 0.3), 0 1px 3px 1px rgba(60, 64, 67, 0.15);\n",
       "    fill: var(--button-hover-fill-color);\n",
       "  }\n",
       "\n",
       "  .colab-df-quickchart-complete:disabled,\n",
       "  .colab-df-quickchart-complete:disabled:hover {\n",
       "    background-color: var(--disabled-bg-color);\n",
       "    fill: var(--disabled-fill-color);\n",
       "    box-shadow: none;\n",
       "  }\n",
       "\n",
       "  .colab-df-spinner {\n",
       "    border: 2px solid var(--fill-color);\n",
       "    border-color: transparent;\n",
       "    border-bottom-color: var(--fill-color);\n",
       "    animation:\n",
       "      spin 1s steps(1) infinite;\n",
       "  }\n",
       "\n",
       "  @keyframes spin {\n",
       "    0% {\n",
       "      border-color: transparent;\n",
       "      border-bottom-color: var(--fill-color);\n",
       "      border-left-color: var(--fill-color);\n",
       "    }\n",
       "    20% {\n",
       "      border-color: transparent;\n",
       "      border-left-color: var(--fill-color);\n",
       "      border-top-color: var(--fill-color);\n",
       "    }\n",
       "    30% {\n",
       "      border-color: transparent;\n",
       "      border-left-color: var(--fill-color);\n",
       "      border-top-color: var(--fill-color);\n",
       "      border-right-color: var(--fill-color);\n",
       "    }\n",
       "    40% {\n",
       "      border-color: transparent;\n",
       "      border-right-color: var(--fill-color);\n",
       "      border-top-color: var(--fill-color);\n",
       "    }\n",
       "    60% {\n",
       "      border-color: transparent;\n",
       "      border-right-color: var(--fill-color);\n",
       "    }\n",
       "    80% {\n",
       "      border-color: transparent;\n",
       "      border-right-color: var(--fill-color);\n",
       "      border-bottom-color: var(--fill-color);\n",
       "    }\n",
       "    90% {\n",
       "      border-color: transparent;\n",
       "      border-bottom-color: var(--fill-color);\n",
       "    }\n",
       "  }\n",
       "</style>\n",
       "\n",
       "  <script>\n",
       "    async function quickchart(key) {\n",
       "      const quickchartButtonEl =\n",
       "        document.querySelector('#' + key + ' button');\n",
       "      quickchartButtonEl.disabled = true;  // To prevent multiple clicks.\n",
       "      quickchartButtonEl.classList.add('colab-df-spinner');\n",
       "      try {\n",
       "        const charts = await google.colab.kernel.invokeFunction(\n",
       "            'suggestCharts', [key], {});\n",
       "      } catch (error) {\n",
       "        console.error('Error during call to suggestCharts:', error);\n",
       "      }\n",
       "      quickchartButtonEl.classList.remove('colab-df-spinner');\n",
       "      quickchartButtonEl.classList.add('colab-df-quickchart-complete');\n",
       "    }\n",
       "    (() => {\n",
       "      let quickchartButtonEl =\n",
       "        document.querySelector('#df-d9facaba-a6fc-4825-929c-d089e0c0a313 button');\n",
       "      quickchartButtonEl.style.display =\n",
       "        google.colab.kernel.accessAllowed ? 'block' : 'none';\n",
       "    })();\n",
       "  </script>\n",
       "</div>\n",
       "\n",
       "    </div>\n",
       "  </div>\n"
      ],
      "text/plain": [
       "            Open  High  Low  Close  Adj Close  Volume  Sentiment\n",
       "Date                                                            \n",
       "2021-10-04  -1.0  -1.0 -1.0    0.0        0.0    -1.0        0.0\n",
       "2021-10-05   1.0   1.0  1.0    1.0        1.0     1.0        0.0\n",
       "2021-10-06  -1.0  -1.0 -1.0   -1.0       -1.0    -1.0        0.0\n",
       "2021-10-07  -1.0  -1.0 -1.0    1.0        1.0    -1.0        0.0\n",
       "2021-10-08   1.0   1.0  1.0    1.0        1.0     1.0        0.0"
      ]
     },
     "execution_count": 121,
     "metadata": {},
     "output_type": "execute_result"
    }
   ],
   "source": [
    "# form X, y\n",
    "stock_move_shifted = stock_move.shift(periods=1)[1:]\n",
    "X_prelim = stock_move_shifted.join(data_sentiment_shifted)\n",
    "y = stock_move['Close'][1:]\n",
    "print(len(X_prelim), len(y))\n",
    "X_prelim.head()"
   ]
  },
  {
   "cell_type": "code",
   "execution_count": 122,
   "metadata": {
    "id": "KzudCp8KkjOZ"
   },
   "outputs": [],
   "source": [
    "# split dataset for training and test\n",
    "# full features = [Open, High, Low, Close, Adj-Close, Volume, Sentiment]\n",
    "from sklearn.model_selection import train_test_split\n",
    "X_prelim_train, X_prelim_test, y_train, y_test = train_test_split(X_prelim, y, test_size=0.2, random_state=42)"
   ]
  },
  {
   "cell_type": "markdown",
   "metadata": {
    "id": "XD0z8fh5Telw"
   },
   "source": [
    "###Step 2: feature importance analysis, using RandomForestClassifier"
   ]
  },
  {
   "cell_type": "code",
   "execution_count": 123,
   "metadata": {
    "colab": {
     "base_uri": "https://localhost:8080/"
    },
    "id": "q5ZZPvv8h5gT",
    "outputId": "786bc5c9-f4ae-4330-9da5-323fea30a83c"
   },
   "outputs": [
    {
     "name": "stdout",
     "output_type": "stream",
     "text": [
      "accuracy:\n",
      "0.54\n",
      "Confusion Matrix:\n",
      "[[ 0  0 22]\n",
      " [ 0  0  1]\n",
      " [ 0  0 27]]\n",
      "\n",
      " -------------------feature importance-------------------\n",
      "0.0 Sentiment\n",
      "0.12 Adj Close\n",
      "0.14 Close\n",
      "0.16 Volume\n",
      "0.16 Low\n",
      "0.21 Open\n",
      "0.22 High\n"
     ]
    }
   ],
   "source": [
    "# Feature importance\n",
    "from sklearn.ensemble import RandomForestClassifier\n",
    "from sklearn.metrics import confusion_matrix\n",
    "\n",
    "# model training\n",
    "rnd_clf = RandomForestClassifier(n_estimators=200, max_leaf_nodes=2, n_jobs=-1, random_state=42)\n",
    "rnd_clf.fit(X_prelim_train, y_train)\n",
    "y_pred = rnd_clf.predict(X_prelim_test)\n",
    "cm = confusion_matrix(y_test, y_pred)\n",
    "print(\"accuracy:\", rnd_clf.score(X_prelim_test, y_test), sep=\"\\n\")\n",
    "print(\"Confusion Matrix:\", cm, sep=\"\\n\")\n",
    "\n",
    "# feature importance analysis\n",
    "print(\"\\n\", '-------------------feature importance-------------------')\n",
    "for score, name in sorted(zip(rnd_clf.feature_importances_, X_prelim_train.columns)):\n",
    "    print(round(score, 2), name)\n"
   ]
  },
  {
   "cell_type": "code",
   "execution_count": 124,
   "metadata": {
    "colab": {
     "base_uri": "https://localhost:8080/"
    },
    "id": "Nmtf2hdmxcv_",
    "outputId": "d03d4e0d-6496-44e6-af3f-4c76db05cf06"
   },
   "outputs": [
    {
     "name": "stdout",
     "output_type": "stream",
     "text": [
      "0.0533 Adj Close\n",
      "0.0533 Close\n",
      "0.017 Volume\n",
      "0.021 Low\n",
      "nan Sentiment\n",
      "-0.0172 High\n",
      "-0.0022 Open\n"
     ]
    },
    {
     "name": "stderr",
     "output_type": "stream",
     "text": [
      "/usr/local/lib/python3.10/dist-packages/numpy/lib/function_base.py:2897: RuntimeWarning: invalid value encountered in divide\n",
      "  c /= stddev[:, None]\n",
      "/usr/local/lib/python3.10/dist-packages/numpy/lib/function_base.py:2898: RuntimeWarning: invalid value encountered in divide\n",
      "  c /= stddev[None, :]\n"
     ]
    }
   ],
   "source": [
    "# coefficient correlation analysis\n",
    "print(round(np.corrcoef(X_prelim['Adj Close'], y)[0,1],4),'Adj Close', sep=\" \")\n",
    "print(round(np.corrcoef(X_prelim['Close'], y)[0,1],4),'Close', sep=\" \")\n",
    "print(round(np.corrcoef(X_prelim['Volume'], y)[0,1],4),'Volume', sep=\" \")\n",
    "print(round(np.corrcoef(X_prelim['Low'], y)[0,1],4),'Low', sep=\" \")\n",
    "print(round(np.corrcoef(X_prelim['Sentiment'], y)[0,1],4),'Sentiment', sep=\" \")\n",
    "print(round(np.corrcoef(X_prelim['High'], y)[0,1],4),'High', sep=\" \")\n",
    "print(round(np.corrcoef(X_prelim['Open'], y)[0,1],4),'Open', sep=\" \")"
   ]
  },
  {
   "cell_type": "code",
   "execution_count": 125,
   "metadata": {
    "colab": {
     "base_uri": "https://localhost:8080/"
    },
    "id": "rnGfRp76nSHk",
    "outputId": "bc398189-8ea7-4111-ead2-dae2eb9046d5"
   },
   "outputs": [
    {
     "name": "stdout",
     "output_type": "stream",
     "text": [
      "accuracy:\n",
      "0.54\n",
      "Confusion Matrix:\n",
      "[[ 0  0 22]\n",
      " [ 0  0  1]\n",
      " [ 0  0 27]]\n"
     ]
    }
   ],
   "source": [
    "# features = ['High', 'Open', 'Sentiment']\n",
    "feature_selection = ['High', 'Open', 'Sentiment']\n",
    "X_selected = X_prelim[feature_selection]\n",
    "X_selected_train, X_selected_test, y_train, y_test = train_test_split(X_selected, y, test_size=0.2, random_state=42)\n",
    "\n",
    "rnd_clf = RandomForestClassifier(n_estimators=200, max_leaf_nodes=2, n_jobs=-1, random_state=42)\n",
    "rnd_clf.fit(X_selected_train, y_train)\n",
    "y_pred = rnd_clf.predict(X_selected_test)\n",
    "cm = confusion_matrix(y_test, y_pred)\n",
    "print(\"accuracy:\", rnd_clf.score(X_selected_test, y_test), sep=\"\\n\")\n",
    "print(\"Confusion Matrix:\", cm, sep=\"\\n\")"
   ]
  },
  {
   "cell_type": "code",
   "execution_count": 126,
   "metadata": {
    "colab": {
     "base_uri": "https://localhost:8080/"
    },
    "id": "8Jjkgn7XotNh",
    "outputId": "1bf80e29-abcc-4b8d-8b16-4dfda135abdd"
   },
   "outputs": [
    {
     "name": "stdout",
     "output_type": "stream",
     "text": [
      "accuracy:\n",
      "0.54\n",
      "Confusion Matrix:\n",
      "[[ 0  0 22]\n",
      " [ 0  0  1]\n",
      " [ 0  0 27]]\n"
     ]
    }
   ],
   "source": [
    "# features = ['Sentiment']\n",
    "X_selected = X_prelim[['Sentiment']]\n",
    "X_selected_train, X_selected_test, y_train, y_test = train_test_split(X_selected, y, test_size=0.2, random_state=42)\n",
    "\n",
    "rnd_clf = RandomForestClassifier(n_estimators=100, max_leaf_nodes=2, n_jobs=-1, random_state=42)\n",
    "rnd_clf.fit(X_selected_train, y_train)\n",
    "y_pred = rnd_clf.predict(X_selected_test)\n",
    "cm = confusion_matrix(y_test, y_pred)\n",
    "print(\"accuracy:\", rnd_clf.score(X_selected_test, y_test), sep=\"\\n\")\n",
    "print(\"Confusion Matrix:\", cm, sep=\"\\n\")"
   ]
  },
  {
   "cell_type": "markdown",
   "metadata": {
    "id": "i8J1uWdTTsKX"
   },
   "source": [
    "### Conclusion"
   ]
  },
  {
   "cell_type": "markdown",
   "metadata": {
    "id": "Srft9Kw01hm2"
   },
   "source": [
    "1. Sentiment is an important features.\n",
    "2. The prediction power of Sentiment to the 1-day ahead price movement is not significant (almost random).\n",
    "3. RandomForestClassifier improves Sentiment prediction accuracy by around 2% (from 52% without modeling to 54%)\n",
    "4. We will apply the most important three features `['Close', 'Adj Close', 'Sentiment']` for subsequent modeling.\n",
    "5. The predictive power of all features and subset of features are the same."
   ]
  },
  {
   "cell_type": "markdown",
   "metadata": {
    "id": "QNRPw0Qf8zQb"
   },
   "source": [
    "# Using Numeric features"
   ]
  },
  {
   "cell_type": "markdown",
   "metadata": {
    "id": "rl-YWKn5Ty1m"
   },
   "source": [
    "## Create numeric features"
   ]
  },
  {
   "cell_type": "code",
   "execution_count": 127,
   "metadata": {
    "colab": {
     "base_uri": "https://localhost:8080/",
     "height": 255
    },
    "id": "YUzSxhz9-3jI",
    "outputId": "1ee36437-2fd8-4803-f4bc-31502365a39f"
   },
   "outputs": [
    {
     "name": "stdout",
     "output_type": "stream",
     "text": [
      "249 249\n"
     ]
    },
    {
     "data": {
      "application/vnd.google.colaboratory.intrinsic+json": {
       "summary": "{\n  \"name\": \"X_prelim_\",\n  \"rows\": 5,\n  \"fields\": [\n    {\n      \"column\": \"Date\",\n      \"properties\": {\n        \"dtype\": \"date\",\n        \"min\": \"2022-09-22 00:00:00\",\n        \"max\": \"2022-09-28 00:00:00\",\n        \"num_unique_values\": 5,\n        \"samples\": [\n          \"2022-09-23 00:00:00\",\n          \"2022-09-28 00:00:00\",\n          \"2022-09-26 00:00:00\"\n        ],\n        \"semantic_type\": \"\",\n        \"description\": \"\"\n      }\n    },\n    {\n      \"column\": \"Open\",\n      \"properties\": {\n        \"dtype\": \"number\",\n        \"std\": 14.540265250369849,\n        \"min\": 271.8299865722656,\n        \"max\": 308.2900085449219,\n        \"num_unique_values\": 5,\n        \"samples\": [\n          299.8599853515625,\n          283.8399963378906,\n          283.0899963378906\n        ],\n        \"semantic_type\": \"\",\n        \"description\": \"\"\n      }\n    },\n    {\n      \"column\": \"High\",\n      \"properties\": {\n        \"dtype\": \"number\",\n        \"std\": 12.854436635778583,\n        \"min\": 284.0899963378906,\n        \"max\": 313.79998779296875,\n        \"num_unique_values\": 5,\n        \"samples\": [\n          301.2900085449219,\n          288.6700134277344,\n          284.5\n        ],\n        \"semantic_type\": \"\",\n        \"description\": \"\"\n      }\n    },\n    {\n      \"column\": \"Low\",\n      \"properties\": {\n        \"dtype\": \"number\",\n        \"std\": 12.258307224721,\n        \"min\": 270.30999755859375,\n        \"max\": 300.6300048828125,\n        \"num_unique_values\": 5,\n        \"samples\": [\n          285.82000732421875,\n          277.510009765625,\n          272.82000732421875\n        ],\n        \"semantic_type\": \"\",\n        \"description\": \"\"\n      }\n    },\n    {\n      \"column\": \"Close\",\n      \"properties\": {\n        \"dtype\": \"number\",\n        \"std\": 10.496982577392272,\n        \"min\": 275.3299865722656,\n        \"max\": 300.79998779296875,\n        \"num_unique_values\": 5,\n        \"samples\": [\n          288.5899963378906,\n          282.94000244140625,\n          275.3299865722656\n        ],\n        \"semantic_type\": \"\",\n        \"description\": \"\"\n      }\n    },\n    {\n      \"column\": \"Adj Close\",\n      \"properties\": {\n        \"dtype\": \"number\",\n        \"std\": 10.496982577392272,\n        \"min\": 275.3299865722656,\n        \"max\": 300.79998779296875,\n        \"num_unique_values\": 5,\n        \"samples\": [\n          288.5899963378906,\n          282.94000244140625,\n          275.3299865722656\n        ],\n        \"semantic_type\": \"\",\n        \"description\": \"\"\n      }\n    },\n    {\n      \"column\": \"Volume\",\n      \"properties\": {\n        \"dtype\": \"number\",\n        \"std\": 4538639.3982117595,\n        \"min\": 58076900.0,\n        \"max\": 70545400.0,\n        \"num_unique_values\": 5,\n        \"samples\": [\n          70545400.0,\n          61925200.0,\n          63748400.0\n        ],\n        \"semantic_type\": \"\",\n        \"description\": \"\"\n      }\n    },\n    {\n      \"column\": \"Sentiment\",\n      \"properties\": {\n        \"dtype\": \"number\",\n        \"std\": 0.0,\n        \"min\": 0.0,\n        \"max\": 0.0,\n        \"num_unique_values\": 1,\n        \"samples\": [\n          0.0\n        ],\n        \"semantic_type\": \"\",\n        \"description\": \"\"\n      }\n    }\n  ]\n}",
       "type": "dataframe"
      },
      "text/html": [
       "\n",
       "  <div id=\"df-f2db0333-09e1-450e-bb91-25731c07cf0d\" class=\"colab-df-container\">\n",
       "    <div>\n",
       "<style scoped>\n",
       "    .dataframe tbody tr th:only-of-type {\n",
       "        vertical-align: middle;\n",
       "    }\n",
       "\n",
       "    .dataframe tbody tr th {\n",
       "        vertical-align: top;\n",
       "    }\n",
       "\n",
       "    .dataframe thead th {\n",
       "        text-align: right;\n",
       "    }\n",
       "</style>\n",
       "<table border=\"1\" class=\"dataframe\">\n",
       "  <thead>\n",
       "    <tr style=\"text-align: right;\">\n",
       "      <th></th>\n",
       "      <th>Open</th>\n",
       "      <th>High</th>\n",
       "      <th>Low</th>\n",
       "      <th>Close</th>\n",
       "      <th>Adj Close</th>\n",
       "      <th>Volume</th>\n",
       "      <th>Sentiment</th>\n",
       "    </tr>\n",
       "    <tr>\n",
       "      <th>Date</th>\n",
       "      <th></th>\n",
       "      <th></th>\n",
       "      <th></th>\n",
       "      <th></th>\n",
       "      <th></th>\n",
       "      <th></th>\n",
       "      <th></th>\n",
       "    </tr>\n",
       "  </thead>\n",
       "  <tbody>\n",
       "    <tr>\n",
       "      <th>2022-09-22</th>\n",
       "      <td>308.290009</td>\n",
       "      <td>313.799988</td>\n",
       "      <td>300.630005</td>\n",
       "      <td>300.799988</td>\n",
       "      <td>300.799988</td>\n",
       "      <td>62555700.0</td>\n",
       "      <td>0.0</td>\n",
       "    </tr>\n",
       "    <tr>\n",
       "      <th>2022-09-23</th>\n",
       "      <td>299.859985</td>\n",
       "      <td>301.290009</td>\n",
       "      <td>285.820007</td>\n",
       "      <td>288.589996</td>\n",
       "      <td>288.589996</td>\n",
       "      <td>70545400.0</td>\n",
       "      <td>0.0</td>\n",
       "    </tr>\n",
       "    <tr>\n",
       "      <th>2022-09-26</th>\n",
       "      <td>283.089996</td>\n",
       "      <td>284.500000</td>\n",
       "      <td>272.820007</td>\n",
       "      <td>275.329987</td>\n",
       "      <td>275.329987</td>\n",
       "      <td>63748400.0</td>\n",
       "      <td>0.0</td>\n",
       "    </tr>\n",
       "    <tr>\n",
       "      <th>2022-09-27</th>\n",
       "      <td>271.829987</td>\n",
       "      <td>284.089996</td>\n",
       "      <td>270.309998</td>\n",
       "      <td>276.010010</td>\n",
       "      <td>276.010010</td>\n",
       "      <td>58076900.0</td>\n",
       "      <td>0.0</td>\n",
       "    </tr>\n",
       "    <tr>\n",
       "      <th>2022-09-28</th>\n",
       "      <td>283.839996</td>\n",
       "      <td>288.670013</td>\n",
       "      <td>277.510010</td>\n",
       "      <td>282.940002</td>\n",
       "      <td>282.940002</td>\n",
       "      <td>61925200.0</td>\n",
       "      <td>0.0</td>\n",
       "    </tr>\n",
       "  </tbody>\n",
       "</table>\n",
       "</div>\n",
       "    <div class=\"colab-df-buttons\">\n",
       "\n",
       "  <div class=\"colab-df-container\">\n",
       "    <button class=\"colab-df-convert\" onclick=\"convertToInteractive('df-f2db0333-09e1-450e-bb91-25731c07cf0d')\"\n",
       "            title=\"Convert this dataframe to an interactive table.\"\n",
       "            style=\"display:none;\">\n",
       "\n",
       "  <svg xmlns=\"http://www.w3.org/2000/svg\" height=\"24px\" viewBox=\"0 -960 960 960\">\n",
       "    <path d=\"M120-120v-720h720v720H120Zm60-500h600v-160H180v160Zm220 220h160v-160H400v160Zm0 220h160v-160H400v160ZM180-400h160v-160H180v160Zm440 0h160v-160H620v160ZM180-180h160v-160H180v160Zm440 0h160v-160H620v160Z\"/>\n",
       "  </svg>\n",
       "    </button>\n",
       "\n",
       "  <style>\n",
       "    .colab-df-container {\n",
       "      display:flex;\n",
       "      gap: 12px;\n",
       "    }\n",
       "\n",
       "    .colab-df-convert {\n",
       "      background-color: #E8F0FE;\n",
       "      border: none;\n",
       "      border-radius: 50%;\n",
       "      cursor: pointer;\n",
       "      display: none;\n",
       "      fill: #1967D2;\n",
       "      height: 32px;\n",
       "      padding: 0 0 0 0;\n",
       "      width: 32px;\n",
       "    }\n",
       "\n",
       "    .colab-df-convert:hover {\n",
       "      background-color: #E2EBFA;\n",
       "      box-shadow: 0px 1px 2px rgba(60, 64, 67, 0.3), 0px 1px 3px 1px rgba(60, 64, 67, 0.15);\n",
       "      fill: #174EA6;\n",
       "    }\n",
       "\n",
       "    .colab-df-buttons div {\n",
       "      margin-bottom: 4px;\n",
       "    }\n",
       "\n",
       "    [theme=dark] .colab-df-convert {\n",
       "      background-color: #3B4455;\n",
       "      fill: #D2E3FC;\n",
       "    }\n",
       "\n",
       "    [theme=dark] .colab-df-convert:hover {\n",
       "      background-color: #434B5C;\n",
       "      box-shadow: 0px 1px 3px 1px rgba(0, 0, 0, 0.15);\n",
       "      filter: drop-shadow(0px 1px 2px rgba(0, 0, 0, 0.3));\n",
       "      fill: #FFFFFF;\n",
       "    }\n",
       "  </style>\n",
       "\n",
       "    <script>\n",
       "      const buttonEl =\n",
       "        document.querySelector('#df-f2db0333-09e1-450e-bb91-25731c07cf0d button.colab-df-convert');\n",
       "      buttonEl.style.display =\n",
       "        google.colab.kernel.accessAllowed ? 'block' : 'none';\n",
       "\n",
       "      async function convertToInteractive(key) {\n",
       "        const element = document.querySelector('#df-f2db0333-09e1-450e-bb91-25731c07cf0d');\n",
       "        const dataTable =\n",
       "          await google.colab.kernel.invokeFunction('convertToInteractive',\n",
       "                                                    [key], {});\n",
       "        if (!dataTable) return;\n",
       "\n",
       "        const docLinkHtml = 'Like what you see? Visit the ' +\n",
       "          '<a target=\"_blank\" href=https://colab.research.google.com/notebooks/data_table.ipynb>data table notebook</a>'\n",
       "          + ' to learn more about interactive tables.';\n",
       "        element.innerHTML = '';\n",
       "        dataTable['output_type'] = 'display_data';\n",
       "        await google.colab.output.renderOutput(dataTable, element);\n",
       "        const docLink = document.createElement('div');\n",
       "        docLink.innerHTML = docLinkHtml;\n",
       "        element.appendChild(docLink);\n",
       "      }\n",
       "    </script>\n",
       "  </div>\n",
       "\n",
       "\n",
       "<div id=\"df-65705c9f-ca38-4d8f-bc0e-1f71f3d4c419\">\n",
       "  <button class=\"colab-df-quickchart\" onclick=\"quickchart('df-65705c9f-ca38-4d8f-bc0e-1f71f3d4c419')\"\n",
       "            title=\"Suggest charts\"\n",
       "            style=\"display:none;\">\n",
       "\n",
       "<svg xmlns=\"http://www.w3.org/2000/svg\" height=\"24px\"viewBox=\"0 0 24 24\"\n",
       "     width=\"24px\">\n",
       "    <g>\n",
       "        <path d=\"M19 3H5c-1.1 0-2 .9-2 2v14c0 1.1.9 2 2 2h14c1.1 0 2-.9 2-2V5c0-1.1-.9-2-2-2zM9 17H7v-7h2v7zm4 0h-2V7h2v10zm4 0h-2v-4h2v4z\"/>\n",
       "    </g>\n",
       "</svg>\n",
       "  </button>\n",
       "\n",
       "<style>\n",
       "  .colab-df-quickchart {\n",
       "      --bg-color: #E8F0FE;\n",
       "      --fill-color: #1967D2;\n",
       "      --hover-bg-color: #E2EBFA;\n",
       "      --hover-fill-color: #174EA6;\n",
       "      --disabled-fill-color: #AAA;\n",
       "      --disabled-bg-color: #DDD;\n",
       "  }\n",
       "\n",
       "  [theme=dark] .colab-df-quickchart {\n",
       "      --bg-color: #3B4455;\n",
       "      --fill-color: #D2E3FC;\n",
       "      --hover-bg-color: #434B5C;\n",
       "      --hover-fill-color: #FFFFFF;\n",
       "      --disabled-bg-color: #3B4455;\n",
       "      --disabled-fill-color: #666;\n",
       "  }\n",
       "\n",
       "  .colab-df-quickchart {\n",
       "    background-color: var(--bg-color);\n",
       "    border: none;\n",
       "    border-radius: 50%;\n",
       "    cursor: pointer;\n",
       "    display: none;\n",
       "    fill: var(--fill-color);\n",
       "    height: 32px;\n",
       "    padding: 0;\n",
       "    width: 32px;\n",
       "  }\n",
       "\n",
       "  .colab-df-quickchart:hover {\n",
       "    background-color: var(--hover-bg-color);\n",
       "    box-shadow: 0 1px 2px rgba(60, 64, 67, 0.3), 0 1px 3px 1px rgba(60, 64, 67, 0.15);\n",
       "    fill: var(--button-hover-fill-color);\n",
       "  }\n",
       "\n",
       "  .colab-df-quickchart-complete:disabled,\n",
       "  .colab-df-quickchart-complete:disabled:hover {\n",
       "    background-color: var(--disabled-bg-color);\n",
       "    fill: var(--disabled-fill-color);\n",
       "    box-shadow: none;\n",
       "  }\n",
       "\n",
       "  .colab-df-spinner {\n",
       "    border: 2px solid var(--fill-color);\n",
       "    border-color: transparent;\n",
       "    border-bottom-color: var(--fill-color);\n",
       "    animation:\n",
       "      spin 1s steps(1) infinite;\n",
       "  }\n",
       "\n",
       "  @keyframes spin {\n",
       "    0% {\n",
       "      border-color: transparent;\n",
       "      border-bottom-color: var(--fill-color);\n",
       "      border-left-color: var(--fill-color);\n",
       "    }\n",
       "    20% {\n",
       "      border-color: transparent;\n",
       "      border-left-color: var(--fill-color);\n",
       "      border-top-color: var(--fill-color);\n",
       "    }\n",
       "    30% {\n",
       "      border-color: transparent;\n",
       "      border-left-color: var(--fill-color);\n",
       "      border-top-color: var(--fill-color);\n",
       "      border-right-color: var(--fill-color);\n",
       "    }\n",
       "    40% {\n",
       "      border-color: transparent;\n",
       "      border-right-color: var(--fill-color);\n",
       "      border-top-color: var(--fill-color);\n",
       "    }\n",
       "    60% {\n",
       "      border-color: transparent;\n",
       "      border-right-color: var(--fill-color);\n",
       "    }\n",
       "    80% {\n",
       "      border-color: transparent;\n",
       "      border-right-color: var(--fill-color);\n",
       "      border-bottom-color: var(--fill-color);\n",
       "    }\n",
       "    90% {\n",
       "      border-color: transparent;\n",
       "      border-bottom-color: var(--fill-color);\n",
       "    }\n",
       "  }\n",
       "</style>\n",
       "\n",
       "  <script>\n",
       "    async function quickchart(key) {\n",
       "      const quickchartButtonEl =\n",
       "        document.querySelector('#' + key + ' button');\n",
       "      quickchartButtonEl.disabled = true;  // To prevent multiple clicks.\n",
       "      quickchartButtonEl.classList.add('colab-df-spinner');\n",
       "      try {\n",
       "        const charts = await google.colab.kernel.invokeFunction(\n",
       "            'suggestCharts', [key], {});\n",
       "      } catch (error) {\n",
       "        console.error('Error during call to suggestCharts:', error);\n",
       "      }\n",
       "      quickchartButtonEl.classList.remove('colab-df-spinner');\n",
       "      quickchartButtonEl.classList.add('colab-df-quickchart-complete');\n",
       "    }\n",
       "    (() => {\n",
       "      let quickchartButtonEl =\n",
       "        document.querySelector('#df-65705c9f-ca38-4d8f-bc0e-1f71f3d4c419 button');\n",
       "      quickchartButtonEl.style.display =\n",
       "        google.colab.kernel.accessAllowed ? 'block' : 'none';\n",
       "    })();\n",
       "  </script>\n",
       "</div>\n",
       "\n",
       "    </div>\n",
       "  </div>\n"
      ],
      "text/plain": [
       "                  Open        High         Low       Close   Adj Close  \\\n",
       "Date                                                                     \n",
       "2022-09-22  308.290009  313.799988  300.630005  300.799988  300.799988   \n",
       "2022-09-23  299.859985  301.290009  285.820007  288.589996  288.589996   \n",
       "2022-09-26  283.089996  284.500000  272.820007  275.329987  275.329987   \n",
       "2022-09-27  271.829987  284.089996  270.309998  276.010010  276.010010   \n",
       "2022-09-28  283.839996  288.670013  277.510010  282.940002  282.940002   \n",
       "\n",
       "                Volume  Sentiment  \n",
       "Date                               \n",
       "2022-09-22  62555700.0        0.0  \n",
       "2022-09-23  70545400.0        0.0  \n",
       "2022-09-26  63748400.0        0.0  \n",
       "2022-09-27  58076900.0        0.0  \n",
       "2022-09-28  61925200.0        0.0  "
      ]
     },
     "execution_count": 127,
     "metadata": {},
     "output_type": "execute_result"
    }
   ],
   "source": [
    "# form X_, y_\n",
    "y_ = y\n",
    "stock_data_ = stock_data[1:]\n",
    "stock_data_shifted_ = stock_data_.shift(periods=1)[1:]\n",
    "X_prelim_ = stock_data_shifted_.join(data_sentiment_shifted)\n",
    "print(len(X_prelim_), len(y_))\n",
    "X_prelim_.tail()"
   ]
  },
  {
   "cell_type": "markdown",
   "metadata": {
    "id": "bp_z9XNRViVf"
   },
   "source": [
    "## Feature Engineering"
   ]
  },
  {
   "cell_type": "markdown",
   "metadata": {
    "id": "tprxZj4IVCkP"
   },
   "source": [
    "### Step 1: creating training datasets"
   ]
  },
  {
   "cell_type": "code",
   "execution_count": 128,
   "metadata": {
    "id": "-poTA50_VKhf"
   },
   "outputs": [],
   "source": [
    "# split dataset for training and test\n",
    "from sklearn.model_selection import train_test_split\n",
    "feature_selection = ['Open', 'High','Low', 'Close', 'Adj Close', 'Volume', 'Sentiment']\n",
    "X_selected_ = X_prelim_[feature_selection]\n",
    "X_selected_train_, X_selected_test_, y_train_, y_test_ = train_test_split(X_selected_, y, test_size=0.2, random_state=42)"
   ]
  },
  {
   "cell_type": "markdown",
   "metadata": {
    "id": "2OVTVzxxUA2_"
   },
   "source": [
    "### Step 2: feature importance analysis, using RandomForestClassifier"
   ]
  },
  {
   "cell_type": "code",
   "execution_count": 129,
   "metadata": {
    "colab": {
     "base_uri": "https://localhost:8080/"
    },
    "id": "L8Yl8kEn_IZD",
    "outputId": "25ef7fe6-7c75-4c45-ff89-e26ad7b52b43"
   },
   "outputs": [
    {
     "name": "stdout",
     "output_type": "stream",
     "text": [
      "accuracy:\n",
      "0.6\n",
      "Confusion Matrix:\n",
      "[[10  0 12]\n",
      " [ 0  0  1]\n",
      " [ 7  0 20]]\n",
      "\n",
      " -------------------feature importance-------------------\n",
      "0.0 Sentiment\n",
      "0.11 Volume\n",
      "0.13 Adj Close\n",
      "0.17 Low\n",
      "0.18 High\n",
      "0.19 Close\n",
      "0.21 Open\n"
     ]
    }
   ],
   "source": [
    "from sklearn.ensemble import RandomForestClassifier\n",
    "from sklearn.metrics import confusion_matrix\n",
    "\n",
    "# model training\n",
    "rnd_clf = RandomForestClassifier(n_estimators=200, max_leaf_nodes=2, n_jobs=-1, random_state=42)\n",
    "rnd_clf.fit(X_selected_train_, y_train_)\n",
    "y_pred_ = rnd_clf.predict(X_selected_test_)\n",
    "cm = confusion_matrix(y_test_, y_pred_)\n",
    "print(\"accuracy:\", rnd_clf.score(X_selected_test_, y_test_), sep=\"\\n\")\n",
    "print(\"Confusion Matrix:\", cm, sep=\"\\n\")\n",
    "\n",
    "# feature importance analysis\n",
    "print(\"\\n\", '-------------------feature importance-------------------')\n",
    "for score, name in sorted(zip(rnd_clf.feature_importances_, X_selected_train_.columns)):\n",
    "    print(round(score, 2), name)\n"
   ]
  },
  {
   "cell_type": "code",
   "execution_count": 130,
   "metadata": {
    "colab": {
     "base_uri": "https://localhost:8080/"
    },
    "id": "jCIRTm4jxH8w",
    "outputId": "7e0e41f6-8652-4820-a205-9e0388c530e3"
   },
   "outputs": [
    {
     "name": "stdout",
     "output_type": "stream",
     "text": [
      "accuracy:\n",
      "0.56\n",
      "Confusion Matrix:\n",
      "[[10  0 12]\n",
      " [ 0  0  1]\n",
      " [ 9  0 18]]\n"
     ]
    }
   ],
   "source": [
    "# split dataset for training and test\n",
    "from sklearn.model_selection import train_test_split\n",
    "feature_selection = ['Open', 'Low', 'Close']\n",
    "X_selected_ = X_prelim_[feature_selection]\n",
    "X_selected_train_, X_selected_test_, y_train_, y_test_ = train_test_split(X_selected_, y, test_size=0.2, random_state=42)\n",
    "\n",
    "from sklearn.ensemble import RandomForestClassifier\n",
    "from sklearn.metrics import confusion_matrix\n",
    "\n",
    "# model training\n",
    "rnd_clf = RandomForestClassifier(n_estimators=200, max_leaf_nodes=2, n_jobs=-1, random_state=42)\n",
    "rnd_clf.fit(X_selected_train_, y_train_)\n",
    "y_pred_ = rnd_clf.predict(X_selected_test_)\n",
    "cm = confusion_matrix(y_test_, y_pred_)\n",
    "print(\"accuracy:\", rnd_clf.score(X_selected_test_, y_test_), sep=\"\\n\")\n",
    "print(\"Confusion Matrix:\", cm, sep=\"\\n\")\n"
   ]
  },
  {
   "cell_type": "markdown",
   "metadata": {
    "id": "3XKEMbxNUaaX"
   },
   "source": [
    "### Conclusion"
   ]
  },
  {
   "cell_type": "markdown",
   "metadata": {
    "id": "mrEmGtds1oMq"
   },
   "source": [
    "1. Sentiment is not an important feature in the neumeric features approach. This conclusion may change if Sentient converts to numeric features (see Future Improvement).\n",
    "2. Using numeric features significantly improves performance by 6% comparing to using categorical features. This is because numeric features provide more granular details for model computation.\n",
    "3. Using full features get the highest performance. Since the categorical approach is indifferent to feature selection, we will use full feature for subseqent modeling."
   ]
  },
  {
   "cell_type": "markdown",
   "metadata": {
    "id": "2mqFdUSB3PKV"
   },
   "source": [
    "# Train with Other Models"
   ]
  },
  {
   "cell_type": "markdown",
   "metadata": {
    "id": "9hBH-zXvWZHw"
   },
   "source": [
    "## Creating training datasets"
   ]
  },
  {
   "cell_type": "code",
   "execution_count": 131,
   "metadata": {
    "id": "Nh5wbarf3x2W"
   },
   "outputs": [],
   "source": [
    "# Dataset creation\n",
    "# create categorical dataset\n",
    "X_cat_train, X_cat_test, y_train, y_test = train_test_split(X_prelim, y, test_size=0.2, random_state=42)\n",
    "# create numeric dataset\n",
    "X_num_train, X_num_test, y_train, y_test = train_test_split(X_prelim_, y, test_size=0.2, random_state=42)"
   ]
  },
  {
   "cell_type": "markdown",
   "metadata": {
    "id": "748NWQxb7rNk"
   },
   "source": [
    "## Decision Tree"
   ]
  },
  {
   "cell_type": "code",
   "execution_count": 132,
   "metadata": {
    "colab": {
     "base_uri": "https://localhost:8080/"
    },
    "id": "gVX8Yylp7wA8",
    "outputId": "fda74f20-2a7e-4d75-ad02-4deaea22e279"
   },
   "outputs": [
    {
     "name": "stdout",
     "output_type": "stream",
     "text": [
      "--------categorical features--------\n",
      "accuracy:\n",
      "0.54\n",
      "Confusion Matrix:\n",
      "[[ 0  0 22]\n",
      " [ 0  0  1]\n",
      " [ 0  0 27]]\n",
      "\n",
      "--------numeric features--------\n",
      "accuracy:\n",
      "0.62\n",
      "Confusion Matrix:\n",
      "[[13  0  9]\n",
      " [ 0  0  1]\n",
      " [ 9  0 18]]\n"
     ]
    }
   ],
   "source": [
    "from sklearn.tree import DecisionTreeClassifier\n",
    "\n",
    "clf = DecisionTreeClassifier(max_depth=1, random_state=42)\n",
    "\n",
    "print('--------categorical features--------')\n",
    "clf.fit(X_cat_train, y_train)\n",
    "cm = confusion_matrix(y_test, clf.predict(X_cat_test))\n",
    "accuracy = clf.score(X_cat_test, y_test)\n",
    "print(\"accuracy:\", accuracy, sep=\"\\n\")\n",
    "print(\"Confusion Matrix:\", cm, sep=\"\\n\")\n",
    "\n",
    "print('\\n--------numeric features--------')\n",
    "clf.fit(X_num_train, y_train)\n",
    "cm = confusion_matrix(y_test, clf.predict(X_num_test))\n",
    "accuracy = clf.score(X_num_test, y_test)\n",
    "print(\"accuracy:\", accuracy, sep=\"\\n\")\n",
    "print(\"Confusion Matrix:\", cm, sep=\"\\n\")"
   ]
  },
  {
   "cell_type": "markdown",
   "metadata": {
    "id": "VP6p3tMN3VpC"
   },
   "source": [
    "## Adaboost"
   ]
  },
  {
   "cell_type": "code",
   "execution_count": 133,
   "metadata": {
    "colab": {
     "base_uri": "https://localhost:8080/"
    },
    "id": "SgBYw17H4-nf",
    "outputId": "c2231c39-92a0-4879-824b-f2ad9f892d61"
   },
   "outputs": [
    {
     "name": "stdout",
     "output_type": "stream",
     "text": [
      "--------categorical features--------\n",
      "accuracy:\n",
      "0.54\n",
      "Confusion Matrix:\n",
      "[[15  0  7]\n",
      " [ 1  0  0]\n",
      " [15  0 12]]\n",
      "\n",
      "--------numeric features--------\n",
      "accuracy:\n",
      "0.5\n",
      "Confusion Matrix:\n",
      "[[11  0 11]\n",
      " [ 0  0  1]\n",
      " [13  0 14]]\n"
     ]
    }
   ],
   "source": [
    "from sklearn.ensemble import AdaBoostClassifier\n",
    "from sklearn.tree import DecisionTreeClassifier\n",
    "\n",
    "clf = AdaBoostClassifier(\n",
    "    DecisionTreeClassifier(max_depth=3), n_estimators=20,\n",
    "    learning_rate=0.3, random_state=42)\n",
    "\n",
    "print('--------categorical features--------')\n",
    "clf.fit(X_cat_train, y_train)\n",
    "cm = confusion_matrix(y_test, clf.predict(X_cat_test))\n",
    "accuracy = clf.score(X_cat_test, y_test)\n",
    "print(\"accuracy:\", accuracy, sep=\"\\n\")\n",
    "print(\"Confusion Matrix:\", cm, sep=\"\\n\")\n",
    "\n",
    "print('\\n--------numeric features--------')\n",
    "clf.fit(X_num_train, y_train)\n",
    "cm = confusion_matrix(y_test, clf.predict(X_num_test))\n",
    "accuracy = clf.score(X_num_test, y_test)\n",
    "print(\"accuracy:\", accuracy, sep=\"\\n\")\n",
    "print(\"Confusion Matrix:\", cm, sep=\"\\n\")"
   ]
  },
  {
   "cell_type": "markdown",
   "metadata": {
    "id": "oifkkveG3f-n"
   },
   "source": [
    "## KNN"
   ]
  },
  {
   "cell_type": "code",
   "execution_count": 134,
   "metadata": {
    "colab": {
     "base_uri": "https://localhost:8080/"
    },
    "id": "n_SkZSVJ91uz",
    "outputId": "de05d02c-f5e1-4bf0-d07e-4d5237e418ba"
   },
   "outputs": [
    {
     "name": "stdout",
     "output_type": "stream",
     "text": [
      "--------categorical features--------\n",
      "accuracy:\n",
      "0.54\n",
      "Confusion Matrix:\n",
      "[[ 9  0 13]\n",
      " [ 1  0  0]\n",
      " [ 9  0 18]]\n",
      "\n",
      "--------numeric features--------\n",
      "accuracy:\n",
      "0.64\n",
      "Confusion Matrix:\n",
      "[[15  0  7]\n",
      " [ 0  0  1]\n",
      " [10  0 17]]\n"
     ]
    }
   ],
   "source": [
    "from sklearn.neighbors import KNeighborsClassifier\n",
    "\n",
    "knn = KNeighborsClassifier(n_neighbors=2)\n",
    "k_max = 50\n",
    "\n",
    "print('--------categorical features--------')\n",
    "lst_accuracy = []\n",
    "for k in range(2, k_max+1):\n",
    "    knn = KNeighborsClassifier(n_neighbors=k)\n",
    "    knn.fit(X_cat_train, y_train)\n",
    "    accuracy = knn.score(X_cat_test, y_test)\n",
    "    lst_accuracy.append(accuracy)\n",
    "\n",
    "accuracy = max(lst_accuracy)\n",
    "k = lst_accuracy.index(accuracy) + 2\n",
    "\n",
    "knn = KNeighborsClassifier(n_neighbors=k)\n",
    "knn.fit(X_cat_train, y_train)\n",
    "cm = confusion_matrix(y_test, knn.predict(X_cat_test))\n",
    "print(\"accuracy:\", accuracy, sep=\"\\n\")\n",
    "print(\"Confusion Matrix:\", cm, sep=\"\\n\")\n",
    "\n",
    "\n",
    "print('\\n--------numeric features--------')\n",
    "lst_accuracy = []\n",
    "for k in range(2, k_max+1):\n",
    "    knn = KNeighborsClassifier(n_neighbors=k)\n",
    "    knn.fit(X_num_train, y_train)\n",
    "    accuracy = knn.score(X_num_test, y_test)\n",
    "    lst_accuracy.append(accuracy)\n",
    "\n",
    "accuracy = max(lst_accuracy)\n",
    "k = lst_accuracy.index(accuracy) + 2\n",
    "\n",
    "knn = KNeighborsClassifier(n_neighbors=k)\n",
    "knn.fit(X_num_train, y_train)\n",
    "cm = confusion_matrix(y_test, knn.predict(X_num_test))\n",
    "print(\"accuracy:\", accuracy, sep=\"\\n\")\n",
    "print(\"Confusion Matrix:\", cm, sep=\"\\n\")"
   ]
  },
  {
   "cell_type": "markdown",
   "metadata": {
    "id": "hLLnE1ZBV2Gl"
   },
   "source": [
    "## Conclusion"
   ]
  },
  {
   "cell_type": "markdown",
   "metadata": {
    "id": "PXL0iD4m3V0V"
   },
   "source": [
    "Accuracy Summary\n",
    "\n",
    "Features    |RandomForest|Decision Tree| AdaBoost    | KNN   \n",
    "------------|------------|-------------|-------------|----------\n",
    "Categorical | 0.54       | 0.54        | 0.50        | 0.54\n",
    "Numeric     | 0.60       | 0.62        | 0.70        | 0.64\n",
    "\n",
    "1. Overall, numeric features perform significantly better than categorical features in all models trained.\n",
    "2. The best performing model is AdaBoost using numeric features, reaching an accuracy of 70%"
   ]
  },
  {
   "cell_type": "markdown",
   "metadata": {
    "id": "5m4cWw4-VxGf"
   },
   "source": [
    "# Future improvement"
   ]
  },
  {
   "cell_type": "markdown",
   "metadata": {
    "id": "-PY8xuWOyGr1"
   },
   "source": [
    "1. Sentiment can also be converted into numberic features, future experiments are needed to test if that would help improve performance.\n",
    "2. Moving average of feature may improve time-series forecast.\n",
    "3. PCA can be another mehtod for feature selection, thus worth future experiments are needed to test if that would help improve performance.\n",
    "4. It worths to do feature selection in other modelings, just in case of exceptional senarios.\n",
    "4. As total number of samples is 249, too small to train a deep neural network. However, transfer learning could be a solution to break this limitation."
   ]
  }
 ],
 "metadata": {
  "colab": {
   "provenance": [],
   "toc_visible": true
  },
  "kernelspec": {
   "display_name": "Python 3 (ipykernel)",
   "language": "python",
   "name": "python3"
  },
  "language_info": {
   "codemirror_mode": {
    "name": "ipython",
    "version": 3
   },
   "file_extension": ".py",
   "mimetype": "text/x-python",
   "name": "python",
   "nbconvert_exporter": "python",
   "pygments_lexer": "ipython3",
   "version": "3.8.18"
  }
 },
 "nbformat": 4,
 "nbformat_minor": 4
}
